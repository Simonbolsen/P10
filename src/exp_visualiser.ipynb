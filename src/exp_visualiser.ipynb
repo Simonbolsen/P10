{
 "cells": [
  {
   "cell_type": "code",
   "execution_count": null,
   "metadata": {},
   "outputs": [],
   "source": [
    "import matplotlib\n",
    "import os\n",
    "from data_analysis import get_data_from_folder, get_meta_data_from_experiment\n",
    "import contraction_plots as cp\n",
    "import matplotlib.pyplot as plt\n",
    "import numpy as np"
   ]
  },
  {
   "cell_type": "code",
   "execution_count": null,
   "metadata": {},
   "outputs": [],
   "source": [
    "# Prepare data\n",
    "folder_name = \"cpp_benchmark_new_cpp_nngreedy_w4_\"\n",
    "folder_path = os.path.join(\"..\", \"experiments\", folder_name)\n",
    "\n",
    "meta_data = get_meta_data_from_experiment(folder_name)\n",
    "\n",
    "data = cp.extract_data(folder_name, silent=True)\n",
    "print(\"data loaded\")"
   ]
  },
  {
   "cell_type": "markdown",
   "metadata": {},
   "source": [
    "## Settings\n",
    "The settings for the experiment"
   ]
  },
  {
   "cell_type": "code",
   "execution_count": null,
   "metadata": {},
   "outputs": [],
   "source": [
    "from tabulate import tabulate\n",
    "\n",
    "selected_circuit = \"wstate\"\n",
    "tabulated_data = [[\"Variable\", \"Value\"]] + [[k, v] for k, v in meta_data[selected_circuit].items()]\n",
    "\n",
    "print(tabulate(tabulated_data, headers=\"firstrow\"))\n"
   ]
  },
  {
   "cell_type": "markdown",
   "metadata": {},
   "source": [
    "## Plots relating to planning"
   ]
  },
  {
   "cell_type": "code",
   "execution_count": null,
   "metadata": {},
   "outputs": [],
   "source": [
    "plots = [\n",
    "    (\"points\", cp.Variables.QUBITS, cp.Variables.PATH_CONSTRUCTION_TIME, \"Path Time by Qubits\"),\n",
    "    (\"points\", cp.Variables.PATH_CONSTRUCTION_TIME, cp.Variables.CONTRACTION_TIME, \"Cont. Time by Path Time\"),\n",
    "    (\"points\", cp.Variables.QUBITS, cp.Variables.PATH_FLOPS, \"Max Sizes over Path Flops\"), \n",
    "    (\"points\", cp.Variables.QUBITS, cp.Variables.PATH_SIZE, \"Max Sizes over Path Flops\"),\n",
    "]\n",
    "\n",
    "fig, axes = plt.subplots(2, 2, figsize=(9,8), constrained_layout=False)\n",
    "for i, ax in enumerate(np.ravel(axes)):\n",
    "    if i >= len(plots):\n",
    "        break\n",
    "    cp.single_experiment_single_plot(data, plots[i], axe=ax)\n"
   ]
  },
  {
   "cell_type": "markdown",
   "metadata": {},
   "source": []
  },
  {
   "cell_type": "code",
   "execution_count": null,
   "metadata": {},
   "outputs": [],
   "source": [
    "plots = [\n",
    "    (\"points\", cp.Variables.QUBITS, cp.Variables.PATH_CONSTRUCTION_TIME, \"Path Time by Qubits\"),\n",
    "    (\"points\", cp.Variables.PATH_CONSTRUCTION_TIME, cp.Variables.CONTRACTION_TIME, \"Cont. Time by Path Time\"),\n",
    "    (\"points\", cp.Variables.QUBITS, cp.Variables.PATH_FLOPS, \"Max Sizes over Path Flops\"), \n",
    "    (\"points\", cp.Variables.QUBITS, cp.Variables.PATH_SIZE, \"Max Sizes over Path Flops\"),\n",
    "]\n",
    "\n",
    "fig, axes = plt.subplots(2, 2, figsize=(9,8), constrained_layout=True)\n",
    "for i, ax in enumerate(np.ravel(axes)):\n",
    "    if i >= len(plots):\n",
    "        break\n",
    "    cp.single_experiment_single_plot(data, plots[i], axe=ax)"
   ]
  }
 ],
 "metadata": {
  "kernelspec": {
   "display_name": "Python 3",
   "language": "python",
   "name": "python3"
  },
  "language_info": {
   "codemirror_mode": {
    "name": "ipython",
    "version": 3
   },
   "file_extension": ".py",
   "mimetype": "text/x-python",
   "name": "python",
   "nbconvert_exporter": "python",
   "pygments_lexer": "ipython3",
   "version": "3.9.18"
  }
 },
 "nbformat": 4,
 "nbformat_minor": 2
}
