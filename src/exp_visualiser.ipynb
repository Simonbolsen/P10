{
 "cells": [
  {
   "cell_type": "code",
   "execution_count": 1,
   "metadata": {},
   "outputs": [],
   "source": [
    "import matplotlib\n",
    "import os\n",
    "from data_analysis import get_data_from_folder, get_meta_data_from_experiment\n",
    "import contraction_plots as cp\n"
   ]
  },
  {
   "cell_type": "code",
   "execution_count": 3,
   "metadata": {},
   "outputs": [
    {
     "name": "stderr",
     "output_type": "stream",
     "text": [
      "2it [00:00, 623.18it/s]\n"
     ]
    },
    {
     "name": "stderr",
     "output_type": "stream",
     "text": [
      "2it [00:00, 434.33it/s]\n",
      "2it [00:00, 783.69it/s]\n",
      "2it [00:00, 452.88it/s]\n",
      "2it [00:00, 669.96it/s]\n",
      "2it [00:00, 790.04it/s]\n",
      "2it [00:00, 939.69it/s]\n",
      "2it [00:00, 769.31it/s]\n",
      "2it [00:00, 674.00it/s]\n",
      "2it [00:00, 632.86it/s]\n",
      "2it [00:00, 667.62it/s]\n",
      "2it [00:00, 1511.73it/s]\n",
      "2it [00:00, 797.02it/s]\n",
      "2it [00:00, 1042.97it/s]\n",
      "2it [00:00, 802.12it/s]\n",
      "2it [00:00, 757.44it/s]\n",
      "2it [00:00, 997.46it/s]\n",
      "2it [00:00, 1469.11it/s]\n",
      "2it [00:00, 487.77it/s]\n",
      "2it [00:00, 582.38it/s]\n",
      "2it [00:00, 882.73it/s]\n",
      "2it [00:00, 489.36it/s]]\n",
      "2it [00:00, 384.18it/s]\n",
      "2it [00:00, 637.53it/s]\n",
      "2it [00:00, 590.41it/s]\n",
      "2it [00:00, 710.66it/s]\n",
      "2it [00:00, 518.68it/s]\n",
      "2it [00:00, 1099.57it/s]\n",
      "2it [00:00, 899.87it/s]\n",
      "2it [00:00, 524.35it/s]\n",
      "2it [00:00, 18.62it/s]\n",
      "2it [00:00, 565.73it/s]\n",
      "2it [00:00, 788.70it/s] \n",
      "2it [00:00, 868.84it/s]\n",
      "2it [00:00, 511.53it/s]\n",
      "2it [00:00, 723.22it/s]\n",
      "2it [00:00, 1286.60it/s]\n",
      "2it [00:00, 1004.14it/s]\n",
      "2it [00:00, 724.78it/s]\n",
      "2it [00:00, 691.84it/s]\n",
      "2it [00:00, 1243.31it/s]\n",
      "2it [00:00, 901.13it/s]\n",
      "2it [00:00, 732.05it/s]\n",
      "2it [00:00, 1007.76it/s]\n",
      "2it [00:00, 522.46it/s]\n",
      "2it [00:00, 1340.46it/s]\n",
      "2it [00:00, 719.31it/s]\n",
      "2it [00:00, 681.28it/s]\n",
      "2it [00:00, 921.62it/s]\n",
      "2it [00:00, 389.39it/s]\n",
      "2it [00:00, 671.30it/s]\n",
      "2it [00:00, 511.16it/s]\n",
      "2it [00:00, 357.24it/s]\n",
      "2it [00:00, 612.35it/s]\n",
      "2it [00:00, 1066.30it/s]\n",
      "2it [00:00, 386.04it/s]\n",
      "2it [00:00, 787.88it/s]\n",
      "2it [00:00, 810.34it/s]\n",
      "2it [00:00, 639.38it/s]\n",
      "2it [00:00, 880.97it/s]\n",
      "2it [00:00, 14.98it/s]\n",
      "2it [00:00, 1158.49it/s]\n",
      "2it [00:00, 1277.19it/s]\n",
      "2it [00:00, 293.84it/s]\n",
      "2it [00:00, 695.75it/s]\n",
      "2it [00:00, 414.78it/s]\n",
      "2it [00:00, 636.95it/s]\n",
      "2it [00:00, 515.49it/s]\n",
      "2it [00:00, 710.54it/s]\n",
      "2it [00:00, 801.97it/s]\n",
      "2it [00:00, 373.52it/s]\n",
      "2it [00:00, 591.25it/s]\n",
      "2it [00:00, 653.22it/s]\n",
      "2it [00:00, 647.72it/s]\n",
      "2it [00:00, 927.12it/s]\n",
      "2it [00:00, 641.77it/s]\n",
      "2it [00:00, 994.97it/s]\n",
      "2it [00:00, 1592.07it/s]\n",
      "2it [00:00, 1758.62it/s]\n",
      "2it [00:00, 630.77it/s]\n",
      "2it [00:00, 1191.56it/s]\n",
      "2it [00:00, 932.17it/s]\n",
      "2it [00:00, 838.19it/s]\n",
      "2it [00:00, 605.37it/s]\n",
      "2it [00:00, 2951.66it/s]\n",
      "2it [00:00, 823.46it/s]\n",
      "2it [00:00, 650.43it/s]\n",
      "2it [00:00, 1255.97it/s]\n",
      "2it [00:00, 903.46it/s]\n",
      "2it [00:00, 471.46it/s]\n",
      "90it [00:01, 78.14it/s]\n"
     ]
    },
    {
     "name": "stdout",
     "output_type": "stream",
     "text": [
      "data loaded\n"
     ]
    }
   ],
   "source": [
    "# Prepare data\n",
    "folder_name = \"cpp_benchmark_new_betweenness_\"\n",
    "folder_path = os.path.join(\"..\", \"experiments\", folder_name)\n",
    "\n",
    "meta_data = get_meta_data_from_experiment(folder_name)\n",
    "\n",
    "data = cp.extract_data(folder_name, silent=True)\n",
    "print(\"data loaded\")"
   ]
  },
  {
   "cell_type": "markdown",
   "metadata": {},
   "source": [
    "## Settings\n",
    "The settings for the experiment"
   ]
  },
  {
   "cell_type": "code",
   "execution_count": null,
   "metadata": {},
   "outputs": [],
   "source": [
    "import tabulate\n",
    "\n",
    "meta_data = [\n",
    "    [\"Variable\", \"Value\"],\n",
    "    [\"Run-type\", \"simulation\" if data[\"settings\"][\"simulate\"] else \"equivalence\"]\n",
    "]\n",
    "\n",
    "print(tabulate(meta_data, headers=\"firstrow\"))\n"
   ]
  },
  {
   "cell_type": "markdown",
   "metadata": {},
   "source": [
    "## Plots relating to planning"
   ]
  },
  {
   "cell_type": "code",
   "execution_count": null,
   "metadata": {},
   "outputs": [],
   "source": [
    "plots = [(\"points\", cp.Variables.QUBITS, cp.Variables.PATH_CONSTRUCTION_TIME, \"Path Construction Time by Qubits\")]\n",
    "plot = (\"points\", cp.Variables.QUBITS, cp.Variables.CONTRACTION_TIME, \"Contraction Time by Qubits\")\n",
    "\n",
    "\n",
    "\n",
    "cp.single_experiment_single_plot(data, plot)"
   ]
  }
 ],
 "metadata": {
  "kernelspec": {
   "display_name": "Python 3",
   "language": "python",
   "name": "python3"
  },
  "language_info": {
   "codemirror_mode": {
    "name": "ipython",
    "version": 3
   },
   "file_extension": ".py",
   "mimetype": "text/x-python",
   "name": "python",
   "nbconvert_exporter": "python",
   "pygments_lexer": "ipython3",
   "version": "3.10.12"
  }
 },
 "nbformat": 4,
 "nbformat_minor": 2
}
